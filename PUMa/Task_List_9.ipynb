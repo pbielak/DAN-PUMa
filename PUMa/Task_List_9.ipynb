{
 "cells": [
  {
   "cell_type": "code",
   "execution_count": null,
   "metadata": {
    "scrolled": false
   },
   "outputs": [],
   "source": [
    "import matplotlib.pyplot as plt\n",
    "import numpy as np\n",
    "import pandas as pd\n",
    "import seaborn as sns\n",
    "\n",
    "from scipy.stats import pearsonr"
   ]
  },
  {
   "cell_type": "code",
   "execution_count": null,
   "metadata": {
    "scrolled": false
   },
   "outputs": [],
   "source": [
    "def load_data():\n",
    "    df = pd.DataFrame()\n",
    "    \n",
    "    for year in range(2002, 2016 + 1):\n",
    "        filepath = 'births_data/regions_pl_uro_%d_00_2p.csv' % year\n",
    "        curr_df = pd.read_csv(filepath)\n",
    "        \n",
    "        del curr_df['id']\n",
    "        del curr_df['nieustalona']\n",
    "        curr_df['year'] = year\n",
    "    \n",
    "        df = df.append(curr_df)\n",
    "        \n",
    "    df = df.reset_index()\n",
    "    del df['index']\n",
    "    \n",
    "    # Fix column type for number of births\n",
    "    for col in (*range(1, 10), '10 i dalsze'):\n",
    "        df[str(col)] = df[str(col)].astype(int)\n",
    "    \n",
    "    # Remove whitespaces for regions\n",
    "    regions_fixed = [r.strip() for r in df['region']]\n",
    "    df['region'] = regions_fixed\n",
    "    \n",
    "    return df\n"
   ]
  },
  {
   "cell_type": "code",
   "execution_count": null,
   "metadata": {
    "scrolled": false
   },
   "outputs": [],
   "source": [
    "births_df = load_data()"
   ]
  },
  {
   "cell_type": "code",
   "execution_count": null,
   "metadata": {
    "scrolled": false
   },
   "outputs": [],
   "source": [
    "births_df.head()"
   ]
  },
  {
   "cell_type": "code",
   "execution_count": null,
   "metadata": {
    "scrolled": false
   },
   "outputs": [],
   "source": [
    "def make_1_vs_more_kids(df):\n",
    "    df = df.copy()\n",
    "    \n",
    "    sum_more = np.array(df['10 i dalsze'])\n",
    "    del df['10 i dalsze']\n",
    "    \n",
    "    for nb_children in range(2, 10):\n",
    "        sum_more += np.array(df[str(nb_children)])\n",
    "        del df[str(nb_children)]\n",
    "    \n",
    "    df['more_kids'] = sum_more\n",
    "    df['one_kid'] = df['1']\n",
    "    del df['1']\n",
    "    df = df[['year', 'region', 'one_kid', 'more_kids']]\n",
    "    return df\n"
   ]
  },
  {
   "cell_type": "markdown",
   "metadata": {},
   "source": [
    "### TASK 1 - Compute pearson corellation"
   ]
  },
  {
   "cell_type": "code",
   "execution_count": null,
   "metadata": {
    "scrolled": false
   },
   "outputs": [],
   "source": [
    "def compute_pearson(df):\n",
    "    df = make_1_vs_more_kids(df)\n",
    "    \n",
    "    years = list(range(2002, 2016 + 1))\n",
    "    regions = list(set(df['region']))\n",
    "\n",
    "    # For each region \n",
    "    coeffs_by_region = []\n",
    "    groupped_by_region = df.groupby('region')\n",
    "    for region in regions:\n",
    "        data = groupped_by_region.get_group(region)\n",
    "        one_kid = data['one_kid']\n",
    "        more_kids = data['more_kids']\n",
    "        coeff = pearsonr(one_kid, more_kids)\n",
    "        coeffs_by_region.append(np.round(coeff[0], 2))\n",
    "\n",
    "    # For all regions\n",
    "    coeff_all_regions = pearsonr(df['one_kid'], df['more_kids'])\n",
    "    print('For all regions:', np.round(coeff_all_regions[0], 2))\n",
    "\n",
    "    # Plotting\n",
    "    fig = plt.figure(figsize=(15, 6))\n",
    "    ax = fig.add_subplot(111)\n",
    "    ax.set_title('Pearson 1 vs more kids for each region')\n",
    "    g = sns.barplot(regions, coeffs_by_region, ax=ax)\n",
    "    g.set_xticklabels(regions, rotation=45)\n",
    "\n",
    "    i = 0\n",
    "    for region, value in zip(regions, coeffs_by_region):\n",
    "        g.text(i, value, value, ha='center')\n",
    "        i += 1\n",
    "\n",
    "    \n",
    "compute_pearson(births_df)"
   ]
  },
  {
   "cell_type": "markdown",
   "metadata": {},
   "source": [
    "### TASK 2 - Plot box plots of data"
   ]
  },
  {
   "cell_type": "code",
   "execution_count": null,
   "metadata": {
    "scrolled": false
   },
   "outputs": [],
   "source": [
    "def plot_box_plots(df):\n",
    "    df = make_1_vs_more_kids(df)\n",
    "    \n",
    "    years = list(range(2002, 2016 + 1))\n",
    "    regions = list(set(df['region']))\n",
    "    \n",
    "    fig = plt.figure(figsize=(20, 15))\n",
    "\n",
    "    # For each region\n",
    "    kids_by_region = []\n",
    "    \n",
    "    groupped_by_region = df.groupby('region')\n",
    "    for region in regions:\n",
    "        data = groupped_by_region.get_group(region)\n",
    "        kids = np.array(data['one_kid']) + np.array(data['more_kids'])\n",
    "        kids_by_region.append(kids)\n",
    "\n",
    "    ax = fig.add_subplot(221)\n",
    "    g = sns.boxplot(x=regions, y=kids_by_region, ax=ax)\n",
    "    g.set_xticklabels(regions, rotation=45)\n",
    "    \n",
    "    \n",
    "    # For all regions\n",
    "    all_region_kids = np.array(df['one_kid']) + np.array(df['more_kids'])\n",
    "    \n",
    "    ax2 = fig.add_subplot(222)\n",
    "    sns.boxplot(x=['All regions'], y=[all_region_kids], ax=ax2)\n",
    "    \n",
    "    \n",
    "    # Each year\n",
    "    kids_by_year = []\n",
    "    \n",
    "    groupped_by_year = df.groupby('year')\n",
    "    for year in years:\n",
    "        data = groupped_by_year.get_group(year)\n",
    "        kids = np.array(data['one_kid']) + np.array(data['more_kids'])\n",
    "        kids_by_year.append(kids)\n",
    "        \n",
    "    ax3 = fig.add_subplot(223)\n",
    "    sns.boxplot(x=years, y=kids_by_year, ax=ax3)\n",
    "    \n",
    "    \n",
    "    # Before and after 500+\n",
    "    ax4 = fig.add_subplot(224)\n",
    "    sns.boxplot(x=['Before', 'After'], y=[np.mean(kids_by_year[:-1], axis=0), kids_by_year[-1]])\n",
    "    \n",
    "    \n",
    "    \n",
    "plot_box_plots(births_df)"
   ]
  },
  {
   "cell_type": "markdown",
   "metadata": {},
   "source": [
    "### Additional plots"
   ]
  },
  {
   "cell_type": "code",
   "execution_count": null,
   "metadata": {
    "scrolled": false
   },
   "outputs": [],
   "source": [
    "def make_additional_plots(df):\n",
    "    years = list(range(2002, 2016 + 1))\n",
    "    regions = list(set(df['region']))\n",
    "    \n",
    "    fig = plt.figure(figsize=(15, 20))\n",
    "    sns.set_style(\"darkgrid\")\n",
    "    ax = fig.add_subplot(211)\n",
    "    \n",
    "    groupped_by_region = df.groupby('region')\n",
    "    for region in regions:\n",
    "        data = groupped_by_region.get_group(region)\n",
    "        total_kids = data['total']\n",
    "        ax.plot(years, total_kids, label=region, linestyle='--', marker='o')\n",
    "        \n",
    "    ax.legend(loc='center left', bbox_to_anchor=(1, 0.5))\n",
    "    \n",
    "    \n",
    "    ax2 = fig.add_subplot(212)\n",
    "    \n",
    "    nb_kids = [*[str(i) for i in range(1, 10)], '10 i dalsze']\n",
    "    before = []\n",
    "    after = []\n",
    "    \n",
    "    for col in nb_kids:\n",
    "        before.append(sum(df[df.year < 2016][col]) / 14)\n",
    "        after.append(sum(df[df.year == 2016][col]))\n",
    "    \n",
    "    ba_df = pd.DataFrame()\n",
    "    \n",
    "    b_df = pd.DataFrame()\n",
    "    b_df['nb_kids'] = nb_kids\n",
    "    b_df['count'] = before\n",
    "    b_df['meaning'] = 'Before'\n",
    "    \n",
    "    a_df = pd.DataFrame()\n",
    "    a_df['nb_kids'] = nb_kids\n",
    "    a_df['count'] = after\n",
    "    a_df['meaning'] = 'After'\n",
    "\n",
    "    ba_df = ba_df.append(b_df)\n",
    "    ba_df = ba_df.append(a_df)\n",
    "    \n",
    "    sns.barplot(x='nb_kids', y='count', hue='meaning', data=ba_df, ax=ax2)\n",
    "    ax2.legend()\n",
    "    \n",
    "make_additional_plots(births_df)"
   ]
  }
 ],
 "metadata": {
  "kernelspec": {
   "display_name": "Python 3",
   "language": "python",
   "name": "python3"
  },
  "language_info": {
   "codemirror_mode": {
    "name": "ipython",
    "version": 3
   },
   "file_extension": ".py",
   "mimetype": "text/x-python",
   "name": "python",
   "nbconvert_exporter": "python",
   "pygments_lexer": "ipython3",
   "version": "3.6.3"
  }
 },
 "nbformat": 4,
 "nbformat_minor": 2
}
