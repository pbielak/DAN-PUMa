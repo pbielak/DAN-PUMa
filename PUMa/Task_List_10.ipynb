{
 "cells": [
  {
   "cell_type": "code",
   "execution_count": null,
   "metadata": {},
   "outputs": [],
   "source": [
    "import itertools\n",
    "\n",
    "import matplotlib.pyplot as plt\n",
    "import networkx as nx\n",
    "import numpy as np\n",
    "import pandas as pd"
   ]
  },
  {
   "cell_type": "code",
   "execution_count": null,
   "metadata": {},
   "outputs": [],
   "source": [
    "# Graph generation\n",
    "\n",
    "def _get_first_example_graph():\n",
    "    G = nx.DiGraph()\n",
    "    G.add_edges_from([\n",
    "        (1, 3), (2, 3),\n",
    "        (3, 4), (3, 8),\n",
    "        (4, 6), (5, 6),\n",
    "        (6, 7)\n",
    "    ])\n",
    "    \n",
    "    node_pos = {\n",
    "        1: (0, 0), 2: (2, 0), \n",
    "        3: (1, -1), \n",
    "        5: (-2, -2), 4: (0, -2), 8: (2, -2),\n",
    "        6: (-1, -3), 7: (-1, -4)\n",
    "    }\n",
    "    \n",
    "    return G, node_pos\n",
    "\n",
    "def get_graph(which):\n",
    "    if 'first' in which:\n",
    "        return _get_first_example_graph()\n",
    "    elif 'second' in which:\n",
    "        res = _get_first_example_graph()\n",
    "        res[0].add_edge(1, 5)\n",
    "        return res\n",
    "    elif 'random' in which:\n",
    "        _g = nx.fast_gnp_random_graph(10, 0.2, directed=True)\n",
    "        g = nx.DiGraph([(u, v) for u, v in _g.edges() if u < v])\n",
    "            \n",
    "        return g, None\n",
    "    else:\n",
    "        raise RuntimeError('Unknown graph')\n"
   ]
  },
  {
   "cell_type": "code",
   "execution_count": null,
   "metadata": {},
   "outputs": [],
   "source": [
    "# Visualization\n",
    "def visualize(G, C, node_pos):\n",
    "    colors = ['gray' if v in C else 'red' for v in G.nodes()]\n",
    "    nx.draw(G, with_labels=True, node_color=colors, pos=node_pos)"
   ]
  },
  {
   "cell_type": "code",
   "execution_count": null,
   "metadata": {},
   "outputs": [],
   "source": [
    "# Helper functions\n",
    "def _is_head_head(G, a, v, b):\n",
    "    return G.has_edge(a, v) and G.has_edge(b, v)\n",
    "\n",
    "\n",
    "def _is_head_tail(G, a, v, b):\n",
    "    return G.has_edge(a, v) and G.has_edge(v, b)\n",
    "\n",
    "\n",
    "def _is_tail_tail(G, a, v, b):\n",
    "    return G.has_edge(v, a) and G.has_edge(v, b)\n",
    "\n",
    "\n",
    "def is_sublist(x, of):\n",
    "    return str(of)[1:-1].find(str(x)[1:-1]) >= 0\n",
    "\n",
    "\n",
    "def get_all_node_pairs(G):\n",
    "    return [(v1, v2) for v1, v2 in sorted(itertools.permutations(G.nodes(), r=2))]\n",
    "\n",
    "\n",
    "def get_all_paths(G, v1, v2):\n",
    "    return list(nx.all_simple_paths(nx.Graph(G), v1, v2))\n"
   ]
  },
  {
   "cell_type": "code",
   "execution_count": null,
   "metadata": {
    "scrolled": false
   },
   "outputs": [],
   "source": [
    "# Blocking paths\n",
    "\n",
    "def get_blocking_paths(G, C):\n",
    "    blocking_paths = []\n",
    "    \n",
    "    for a, v, b in sorted(itertools.permutations(G.nodes(), r=3)):\n",
    "        if (_is_head_tail(G, a, v, b) or _is_head_tail(G, b, v, a)) and v in C:\n",
    "            blocking_paths.append((a, v, b))\n",
    "            continue\n",
    "        \n",
    "        if _is_tail_tail(G, a, v, b) and v in C:\n",
    "            blocking_paths.append((a, v, b))\n",
    "            continue\n",
    "        \n",
    "        if _is_head_head(G, a, v, b) and v not in C \\\n",
    "           and all(vv not in C for vv in nx.descendants(G, v)):\n",
    "            blocking_paths.append((a, v, b))\n",
    "\n",
    "    return blocking_paths\n"
   ]
  },
  {
   "cell_type": "code",
   "execution_count": null,
   "metadata": {},
   "outputs": [],
   "source": [
    "# D-separability test\n",
    "\n",
    "def is_d_separable(G, v1, v2, C):\n",
    "    result = True\n",
    "    blocking_paths = get_blocking_paths(G, C)\n",
    "  \n",
    "    for path in get_all_paths(G, v1, v2):\n",
    "        if any(is_sublist(bp, of=path) for bp in blocking_paths):\n",
    "            continue\n",
    "    \n",
    "        result = False\n",
    "        break\n",
    "        \n",
    "    return result\n",
    "\n",
    "\n",
    "def check_d_separability_for_all_node_pairs(G, C):\n",
    "    df = pd.DataFrame(columns=['v1', 'v2', 'd_sep'])\n",
    "\n",
    "    for v1, v2 in get_all_node_pairs(G):\n",
    "        if G.has_edge(v1, v2) or G.has_edge(v2, v1):\n",
    "            d_sep = '-'\n",
    "        elif v1 in C or v2 in C:\n",
    "            d_sep = '-'\n",
    "        else:\n",
    "            d_sep = is_d_separable(G, v1, v2, C)\n",
    "        \n",
    "        df = df.append({'v1': v1, 'v2': v2, 'd_sep': d_sep}, ignore_index=True)\n",
    "        \n",
    "    return df\n"
   ]
  },
  {
   "cell_type": "code",
   "execution_count": null,
   "metadata": {},
   "outputs": [],
   "source": [
    "graph, node_pos = get_graph('first_example')\n",
    "conditioning_set = set([7, ])\n",
    "visualize(G=graph, C=conditioning_set, node_pos=node_pos)\n",
    "df = check_d_separability_for_all_node_pairs(graph, conditioning_set)"
   ]
  },
  {
   "cell_type": "code",
   "execution_count": null,
   "metadata": {},
   "outputs": [],
   "source": [
    "df[df.d_sep == True]"
   ]
  },
  {
   "cell_type": "code",
   "execution_count": null,
   "metadata": {},
   "outputs": [],
   "source": [
    "df"
   ]
  }
 ],
 "metadata": {
  "kernelspec": {
   "display_name": "Python 3",
   "language": "python",
   "name": "python3"
  },
  "language_info": {
   "codemirror_mode": {
    "name": "ipython",
    "version": 3
   },
   "file_extension": ".py",
   "mimetype": "text/x-python",
   "name": "python",
   "nbconvert_exporter": "python",
   "pygments_lexer": "ipython3",
   "version": "3.6.3"
  }
 },
 "nbformat": 4,
 "nbformat_minor": 2
}
